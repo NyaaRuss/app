{
 "cells": [
  {
   "cell_type": "code",
   "execution_count": null,
   "id": "0de88b0c-e33e-4bb2-a443-83737146439c",
   "metadata": {},
   "outputs": [],
   "source": [
    "from tensorflow.keras.applications.inception_v3 import InceptionV3\n",
    "import pandas as pd\n",
    "from tensorflow.keras import metrics\n",
    "import numpy as np\n",
    "import tensorflow as tf\n",
    "from tensorflow import keras\n",
    "import cv2"
   ]
  },
  {
   "cell_type": "code",
   "execution_count": null,
   "id": "ab7e1a04",
   "metadata": {},
   "outputs": [],
   "source": [
    "#training the InceptionV3 model\n"
   ]
  },
  {
   "cell_type": "code",
   "execution_count": null,
   "id": "123dba5e-de47-4e3e-8e30-21bac618fc79",
   "metadata": {},
   "outputs": [],
   "source": [
    "#create the model\n",
    "model = InceptionV3(include_top=True,weights='imagenet')\n",
    "#model.compile(loss='mse',optimizer='adam',metrics = [metrics.categorical_accuracy])"
   ]
  },
  {
   "cell_type": "code",
   "execution_count": null,
   "id": "ca20e5f4-66f8-4c96-8a23-48583936463a",
   "metadata": {},
   "outputs": [],
   "source": []
  },
  {
   "cell_type": "code",
   "execution_count": null,
   "id": "fce2fbc5",
   "metadata": {},
   "outputs": [],
   "source": [
    "x = tf.io.read_file('dog.jpg')\n",
    "x = tf.io.decode_image(x,channels=3)\n",
    "x = tf.image.resize(x,[299,299])\n",
    "x = tf.expand_dims(x, axis=0)\n",
    "x = tf.keras.applications.inception_v3.preprocess_input(x)"
   ]
  },
  {
   "cell_type": "code",
   "execution_count": null,
   "id": "dc2b5000",
   "metadata": {},
   "outputs": [],
   "source": [
    "pred = tf.keras.applications.inception_v3.decode_predictions(model.predict(x),top=1)"
   ]
  },
  {
   "cell_type": "code",
   "execution_count": null,
   "id": "27129da8",
   "metadata": {},
   "outputs": [
    {
     "name": "stdout",
     "output_type": "stream",
     "text": [
      "WARNING:tensorflow:Compiled the loaded model, but the compiled metrics have yet to be built. `model.compile_metrics` will be empty until you train or evaluate the model.\n"
     ]
    }
   ],
   "source": [
    "model.save('mod.h5')"
   ]
  },
  {
   "cell_type": "code",
   "execution_count": null,
   "id": "b6aad004",
   "metadata": {},
   "outputs": [],
   "source": [
    "from keras.models import load_model"
   ]
  },
  {
   "cell_type": "code",
   "execution_count": null,
   "id": "653729ca",
   "metadata": {},
   "outputs": [
    {
     "name": "stdout",
     "output_type": "stream",
     "text": [
      "WARNING:tensorflow:No training configuration found in the save file, so the model was *not* compiled. Compile it manually.\n"
     ]
    }
   ],
   "source": [
    "z=load_model('mod.h5')"
   ]
  },
  {
   "cell_type": "code",
   "execution_count": null,
   "id": "1a770f70",
   "metadata": {},
   "outputs": [],
   "source": [
    "x = tf.io.read_file('dog.jpg')\n",
    "x = tf.io.decode_image(x,channels=3)\n",
    "x = tf.image.resize(x,[299,299])\n",
    "x = tf.expand_dims(x, axis=0)\n",
    "x = tf.keras.applications.inception_v3.preprocess_input(x)"
   ]
  },
  {
   "cell_type": "code",
   "execution_count": null,
   "id": "7c84ee08",
   "metadata": {},
   "outputs": [],
   "source": [
    "pred = tf.keras.applications.inception_v3.decode_predictions(z.predict(x),top=1)"
   ]
  },
  {
   "cell_type": "code",
   "execution_count": null,
   "id": "9a2d5ade",
   "metadata": {},
   "outputs": [
    {
     "data": {
      "text/plain": [
       "('n02099712', 'Labrador_retriever', 0.8190193)"
      ]
     },
     "execution_count": 11,
     "metadata": {},
     "output_type": "execute_result"
    }
   ],
   "source": [
    "pred[0][0]"
   ]
  },
  {
   "cell_type": "code",
   "execution_count": null,
   "id": "c89353c5",
   "metadata": {},
   "outputs": [
    {
     "data": {
      "text/plain": [
       "[[('n02099712', 'Labrador_retriever', 0.8190193)]]"
      ]
     },
     "execution_count": 12,
     "metadata": {},
     "output_type": "execute_result"
    }
   ],
   "source": [
    "pred"
   ]
  },
  {
   "cell_type": "code",
   "execution_count": null,
   "id": "d99ffc52",
   "metadata": {},
   "outputs": [],
   "source": []
  }
 ],
 "metadata": {
  "kernelspec": {
   "display_name": "Python 3 (ipykernel)",
   "language": "python",
   "name": "python3"
  },
  "language_info": {
   "codemirror_mode": {
    "name": "ipython",
    "version": 3
   },
   "file_extension": ".py",
   "mimetype": "text/x-python",
   "name": "python",
   "nbconvert_exporter": "python",
   "pygments_lexer": "ipython3",
   "version": "3.10.2"
  }
 },
 "nbformat": 4,
 "nbformat_minor": 5
}
